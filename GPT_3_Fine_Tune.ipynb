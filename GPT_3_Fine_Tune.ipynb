{
  "nbformat": 4,
  "nbformat_minor": 0,
  "metadata": {
    "colab": {
      "name": "GPT-3-Fine-Tune.ipynb",
      "provenance": [],
      "mount_file_id": "1XoDsmEwqmhr4dn3j0muUX8z0lZBFzq55",
      "authorship_tag": "ABX9TyMDcJDRsMgdlD2pkUA3l9wv",
      "include_colab_link": true
    },
    "kernelspec": {
      "name": "python3",
      "display_name": "Python 3"
    },
    "language_info": {
      "name": "python"
    }
  },
  "cells": [
    {
      "cell_type": "markdown",
      "metadata": {
        "id": "view-in-github",
        "colab_type": "text"
      },
      "source": [
        "<a href=\"https://colab.research.google.com/github/makramjandar/GPT-3-Fine-Tune/blob/main/GPT_3_Fine_Tune.ipynb\" target=\"_parent\"><img src=\"https://colab.research.google.com/assets/colab-badge.svg\" alt=\"Open In Colab\"/></a>"
      ]
    },
    {
      "cell_type": "code",
      "metadata": {
        "id": "FGuemjhmkOg1",
        "colab": {
          "base_uri": "https://localhost:8080/"
        },
        "outputId": "edc2c882-2c7b-4f58-c0e2-1eb0fc05487d"
      },
      "source": [
        "from google.colab import drive\n",
        "drive.mount('/gdrive', force_remount=True)\n",
        "!ln -s \"/gdrive/My Drive/GPT-3-Fine-Tune/Corpora\" \"/content/Corpora\""
      ],
      "execution_count": 48,
      "outputs": [
        {
          "output_type": "stream",
          "name": "stdout",
          "text": [
            "Mounted at /gdrive\n",
            "ln: failed to create symbolic link '/content/Corpora/Corpora': File exists\n"
          ]
        }
      ]
    },
    {
      "cell_type": "code",
      "metadata": {
        "id": "Cc6K-roBmkk6"
      },
      "source": [
        "%%bash\n",
        "wget \"https://github.com/kevinboone/epub2txt2/archive/refs/heads/master.zip\" -O temp.zip && unzip temp.zip && rm temp.zip\n",
        "cd epub2txt2-master && make && sudo make install && cd .."
      ],
      "execution_count": null,
      "outputs": []
    },
    {
      "cell_type": "code",
      "metadata": {
        "id": "Ez0Vo3Eptkt8"
      },
      "source": [
        "%%bash\n",
        "for file in /content/Corpora/epub/*; do\n",
        "    [ -e \"$file\" ] || continue\n",
        "    name=${file##*/}\n",
        "    base=${name%.epub}\n",
        "    epub2txt \"${file}\" > \"/content/Corpora/txt/${base}.txt\"\n",
        "done"
      ],
      "execution_count": 45,
      "outputs": []
    }
  ]
}