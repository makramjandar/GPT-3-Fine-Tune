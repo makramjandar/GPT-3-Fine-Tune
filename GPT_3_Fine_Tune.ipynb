{
  "nbformat": 4,
  "nbformat_minor": 0,
  "metadata": {
    "colab": {
      "name": "GPT-3-Fine-Tune.ipynb",
      "provenance": [],
      "mount_file_id": "1XoDsmEwqmhr4dn3j0muUX8z0lZBFzq55",
      "authorship_tag": "ABX9TyOuMucsNzJwtsjqzpcDa0+9",
      "include_colab_link": true
    },
    "kernelspec": {
      "name": "python3",
      "display_name": "Python 3"
    },
    "language_info": {
      "name": "python"
    }
  },
  "cells": [
    {
      "cell_type": "markdown",
      "metadata": {
        "id": "view-in-github",
        "colab_type": "text"
      },
      "source": [
        "<a href=\"https://colab.research.google.com/github/makramjandar/GPT-3-Fine-Tune/blob/main/GPT_3_Fine_Tune.ipynb\" target=\"_parent\"><img src=\"https://colab.research.google.com/assets/colab-badge.svg\" alt=\"Open In Colab\"/></a>"
      ]
    },
    {
      "cell_type": "code",
      "metadata": {
        "id": "FGuemjhmkOg1",
        "colab": {
          "base_uri": "https://localhost:8080/"
        },
        "outputId": "adf8a792-517a-4132-9175-3d0915d55d32"
      },
      "source": [
        "from google.colab import drive\n",
        "drive.mount(\"/content/MyDrive\", force_remount=True)"
      ],
      "execution_count": 29,
      "outputs": [
        {
          "output_type": "stream",
          "name": "stdout",
          "text": [
            "Mounted at /content/MyDrive\n"
          ]
        }
      ]
    },
    {
      "cell_type": "code",
      "metadata": {
        "id": "Cc6K-roBmkk6"
      },
      "source": [
        "!wget \"https://github.com/kevinboone/epub2txt2/archive/refs/heads/master.zip\" -O temp.zip && unzip temp.zip && rm temp.zip"
      ],
      "execution_count": null,
      "outputs": []
    },
    {
      "cell_type": "code",
      "metadata": {
        "id": "7wiKGm9Uigy_"
      },
      "source": [
        "!cd epub2txt2-master && make && sudo make install && cd .."
      ],
      "execution_count": null,
      "outputs": []
    },
    {
      "cell_type": "code",
      "metadata": {
        "colab": {
          "base_uri": "https://localhost:8080/"
        },
        "id": "7EeIMYwaqMCx",
        "outputId": "1938392c-5ebf-4a23-ec7c-d45290bff153"
      },
      "source": [
        "!pwd"
      ],
      "execution_count": 32,
      "outputs": [
        {
          "output_type": "stream",
          "name": "stdout",
          "text": [
            "/content\n"
          ]
        }
      ]
    }
  ]
}